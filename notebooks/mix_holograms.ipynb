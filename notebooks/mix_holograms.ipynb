{
 "cells": [
  {
   "cell_type": "markdown",
   "metadata": {},
   "source": [
    "## Mixig In with Out\n"
   ]
  },
  {
   "cell_type": "code",
   "execution_count": 29,
   "metadata": {},
   "outputs": [],
   "source": [
    "######################\n",
    "# MIXING IN WITH OUT #\n",
    "######################\n",
    "\n",
    "import os\n",
    "import pandas as pd\n",
    "from tqdm import tqdm\n",
    "from src.utils.spec import *\n",
    "from src.utils.const import *\n",
    "\n",
    "mix_metadata = []\n",
    "\n",
    "if not os.path.exists(metapath):\n",
    "    os.makedirs(metapath)\n",
    "\n",
    "\n",
    "metadata = {\n",
    "    'indoor': [],\n",
    "    'outdoor': [],\n",
    "}\n",
    "\n",
    "# LOAD METADATA from csv\n",
    "metadata['indoor'] = pd.read_csv(metapath / Path('indoor.csv'))\n",
    "metadata['outdoor'] = pd.read_csv(metapath / Path('outdoor.csv'))\n"
   ]
  },
  {
   "cell_type": "code",
   "execution_count": 30,
   "metadata": {},
   "outputs": [],
   "source": [
    "metadata['indoor'] = metadata['indoor'].T.to_dict().values()\n",
    "metadata['outdoor'] = metadata['outdoor'].T.to_dict().values()"
   ]
  },
  {
   "cell_type": "code",
   "execution_count": 36,
   "metadata": {},
   "outputs": [
    {
     "name": "stderr",
     "output_type": "stream",
     "text": [
      "100%|██████████| 234/234 [00:00<00:00, 1383.37it/s]\n"
     ]
    }
   ],
   "source": [
    "for in_meta in tqdm(metadata['indoor']):\n",
    "    \n",
    "    for out_meta in metadata['outdoor']:\n",
    "        \n",
    "        # mixing metadata\n",
    "        meta = {}\n",
    "        meta['mix_name'] = f'{in_meta[\"in_file_name\"]}__out_{out_meta[\"out_file_name\"]}'\n",
    "        # meta['indoor'] = in_meta\n",
    "        # meta['outdoor'] = out_meta\n",
    "        meta = {**meta, **in_meta, **out_meta}\n",
    "        mix_metadata.append(meta)\n",
    "\n",
    "mix_df = pd.DataFrame.from_dict(mix_metadata)\n",
    "\n",
    "mix_columns=['mix_name'] + ['in_'+column for column in info['indoor']['columns']] + ['out_'+column for column in info['outdoor']['columns']]\n",
    "mix_df.to_csv(metapath / Path('mix.csv'), index=False, header=True, columns=mix_columns)\n"
   ]
  }
 ],
 "metadata": {
  "kernelspec": {
   "display_name": "asmara",
   "language": "python",
   "name": "python3"
  },
  "language_info": {
   "codemirror_mode": {
    "name": "ipython",
    "version": 3
   },
   "file_extension": ".py",
   "mimetype": "text/x-python",
   "name": "python",
   "nbconvert_exporter": "python",
   "pygments_lexer": "ipython3",
   "version": "3.9.15 (main, Nov 24 2022, 14:31:59) \n[GCC 11.2.0]"
  },
  "orig_nbformat": 4,
  "vscode": {
   "interpreter": {
    "hash": "5ea0a4f467ddd1ee6892d2aa7c229289ebc223d4acc1e922b15dbf8f4e97eb4b"
   }
  }
 },
 "nbformat": 4,
 "nbformat_minor": 2
}
