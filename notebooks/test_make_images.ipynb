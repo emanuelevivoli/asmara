{
 "cells": [
  {
   "cell_type": "code",
   "execution_count": 1,
   "metadata": {},
   "outputs": [],
   "source": [
    "import os\n",
    "import numpy as np\n",
    "import pandas as pd\n",
    "import holopy as hp\n",
    "from PIL import Image\n",
    "from src.utils.const import *\n",
    "\n",
    "import matlab.engine\n",
    "eng = matlab.engine.start_matlab()\n",
    "s = eng.genpath(os.path.join(BASEPATH, 'matlab'))\n",
    "eng.addpath(s, nargout=0)\n",
    "\n",
    "df = pd.read_csv(datapath / Path('raw/indoor_objects.csv'))\n",
    "df_dict = {k: (v1, v2) for k, (v1, v2) in zip(\n",
    "    df['id'], zip(df['name'], df['classification']))}"
   ]
  },
  {
   "cell_type": "code",
   "execution_count": 69,
   "metadata": {},
   "outputs": [
    {
     "name": "stderr",
     "output_type": "stream",
     "text": [
      "/var/folders/yw/39qgg96x2451prd0f9qrtbzr0000gn/T/ipykernel_44415/55131469.py:16: ComplexWarning: Casting complex values to real discards the imaginary part\n",
      "  img = Image.fromarray(np_Hfill.astype(np.uint8))\n"
     ]
    }
   ],
   "source": [
    "name = 'in_bas_13_C_20'\n",
    "\n",
    "pluto = f'plutoScan_{name}.log'\n",
    "samba = f'TraceData_{name}.csv'\n",
    "eng.workspace['pluto']= os.path.join(datapath, 'new', pluto)\n",
    "eng.workspace['trace']= os.path.join(datapath, 'new', samba)\n",
    "\n",
    "eng.eval(f\"[F,FI,FQ,P_X,P_Y,P_MOD,P_PHASE] = merge_acquisition(trace, pluto);\",nargout=0)\n",
    "eng.eval(f\"[MO, PH, H, Hfill] = fast_generate_hologram(F, FI, FQ, 5, P_X, P_Y, P_MOD, P_PHASE, 2, 3);\",nargout=0)\n",
    "\n",
    "Hfill = eng.workspace['Hfill']\n",
    "np_Hfill = np.asarray(Hfill, dtype = 'complex_')\n",
    "\n",
    "# save image to file\n",
    "# I8 = (((np_Hfill - np_Hfill.min()) / (np_Hfill.max() - np_Hfill.min())) * 255).astype(np.uint8)\n",
    "img = Image.fromarray(np_Hfill.astype(np.uint8))\n",
    "img.show()"
   ]
  },
  {
   "cell_type": "code",
   "execution_count": null,
   "metadata": {},
   "outputs": [],
   "source": []
  }
 ],
 "metadata": {
  "kernelspec": {
   "display_name": "Python 3.8.13 ('mypython3')",
   "language": "python",
   "name": "python3"
  },
  "language_info": {
   "codemirror_mode": {
    "name": "ipython",
    "version": 3
   },
   "file_extension": ".py",
   "mimetype": "text/x-python",
   "name": "python",
   "nbconvert_exporter": "python",
   "pygments_lexer": "ipython3",
   "version": "3.8.13"
  },
  "orig_nbformat": 4,
  "vscode": {
   "interpreter": {
    "hash": "8148f3366ec21db64bd0484ee2e8d964d27d8e8b73627767738b51624036cdd9"
   }
  }
 },
 "nbformat": 4,
 "nbformat_minor": 2
}
