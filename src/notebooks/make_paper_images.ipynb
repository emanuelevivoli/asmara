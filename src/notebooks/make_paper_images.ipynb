{
 "cells": [
  {
   "cell_type": "code",
   "execution_count": 5,
   "metadata": {},
   "outputs": [],
   "source": [
    "import numpy as np\n",
    "import matplotlib.pyplot as plt"
   ]
  },
  {
   "cell_type": "code",
   "execution_count": 11,
   "metadata": {},
   "outputs": [],
   "source": [
    "holo_path = '/home/evivoli/asmara/data/interim/interps/holograms/indoor'\n",
    "oris = ['A', 'B', 'C', 'D']\n",
    "holo_files = []\n",
    "for ori in oris:\n",
    "    holo_files.append(np.load(f'{holo_path}/in_bas_02_{ori}_holo.npy'))"
   ]
  },
  {
   "cell_type": "code",
   "execution_count": 13,
   "metadata": {},
   "outputs": [
    {
     "name": "stdout",
     "output_type": "stream",
     "text": [
      "(60, 60)\n"
     ]
    }
   ],
   "source": [
    "# now we want to save also for the holo_file real and imaginary part\n",
    "\n",
    "print(holo_files[0].shape)\n",
    "\n",
    "# every image is 60x60 complex numbers\n",
    "# so we need to cast is to real numbers\n",
    "for holo_file, ori in zip(holo_files, oris):\n",
    "    app = np.abs(holo_file)\n",
    "    plt.imsave(f'/home/evivoli/asmara/paper_images_supp/mines/in_bas_02_{ori}_real.png', app, cmap='viridis')\n",
    "\n",
    "    app = np.imag(holo_file)\n",
    "    plt.imsave(f'/home/evivoli/asmara/paper_images_supp/mines/in_bas_02_{ori}_imag.png', app, cmap='viridis')"
   ]
  },
  {
   "cell_type": "code",
   "execution_count": 14,
   "metadata": {},
   "outputs": [],
   "source": [
    "inv_filename = '/home/evivoli/asmara/data/interim/interps/inversions/outdoor/2_25_inv.npy'\n",
    "inv_file = np.load(inv_filename)"
   ]
  },
  {
   "cell_type": "code",
   "execution_count": 16,
   "metadata": {},
   "outputs": [
    {
     "name": "stdout",
     "output_type": "stream",
     "text": [
      "(60, 60)\n",
      "(60, 60)\n"
     ]
    }
   ],
   "source": [
    "# i want first and last 3 images of the tensor to be saved in \"/home/evivoli/asmara/paper_images\"\n",
    "\n",
    "for i in [39,40]:\n",
    "    print(inv_file[i].shape)\n",
    "    # every image is 60x60 complex numbers\n",
    "    # so we need to cast is to real numbers\n",
    "    app = np.abs(inv_file[i])\n",
    "    plt.imsave(f'/home/evivoli/asmara/paper_images_supp/soil/inv_real{i}.png', app, cmap='viridis')\n",
    "    \n",
    "    app = np.imag(inv_file[i])\n",
    "    plt.imsave(f'/home/evivoli/asmara/paper_images_supp/soil/inv_imag{i}.png', app, cmap='viridis')"
   ]
  },
  {
   "cell_type": "code",
   "execution_count": 17,
   "metadata": {},
   "outputs": [],
   "source": [
    "inv_filename = '/home/evivoli/asmara/data/interim/interps/inversions/indoor/in_bas_02_A_inv.npy'\n",
    "inv_file = np.load(inv_filename)"
   ]
  },
  {
   "cell_type": "code",
   "execution_count": 18,
   "metadata": {},
   "outputs": [
    {
     "name": "stdout",
     "output_type": "stream",
     "text": [
      "(60, 60)\n",
      "(60, 60)\n"
     ]
    }
   ],
   "source": [
    "# i want first and last 3 images of the tensor to be saved in \"/home/evivoli/asmara/paper_images\"\n",
    "\n",
    "for i in [39,40]:\n",
    "    print(inv_file[i].shape)\n",
    "    # every image is 60x60 complex numbers\n",
    "    # so we need to cast is to real numbers\n",
    "    app = np.abs(inv_file[i])\n",
    "    plt.imsave(f'/home/evivoli/asmara/paper_images_supp/mines/in_bas_02_A_inv_real{i}.png', app, cmap='viridis')\n",
    "    \n",
    "    app = np.imag(inv_file[i])\n",
    "    plt.imsave(f'/home/evivoli/asmara/paper_images_supp/mines/in_bas_02_A_inv_imag{i}.png', app, cmap='viridis')"
   ]
  },
  {
   "cell_type": "code",
   "execution_count": null,
   "metadata": {},
   "outputs": [],
   "source": []
  }
 ],
 "metadata": {
  "kernelspec": {
   "display_name": "asmara",
   "language": "python",
   "name": "python3"
  },
  "language_info": {
   "codemirror_mode": {
    "name": "ipython",
    "version": 3
   },
   "file_extension": ".py",
   "mimetype": "text/x-python",
   "name": "python",
   "nbconvert_exporter": "python",
   "pygments_lexer": "ipython3",
   "version": "3.9.16"
  },
  "orig_nbformat": 4,
  "vscode": {
   "interpreter": {
    "hash": "5ea0a4f467ddd1ee6892d2aa7c229289ebc223d4acc1e922b15dbf8f4e97eb4b"
   }
  }
 },
 "nbformat": 4,
 "nbformat_minor": 2
}
