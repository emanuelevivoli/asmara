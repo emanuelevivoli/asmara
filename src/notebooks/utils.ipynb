{
 "cells": [
  {
   "attachments": {},
   "cell_type": "markdown",
   "metadata": {},
   "source": [
    "# Utility functions\n",
    "\n",
    "For the needed processes of renaming the files."
   ]
  },
  {
   "cell_type": "code",
   "execution_count": null,
   "metadata": {},
   "outputs": [],
   "source": [
    "# load every file from /data/raw/indoor and rename without the prefix \n",
    "# \"TraceData_\" and \n",
    "# \"plutoScan_\"\n",
    "\n",
    "import os\n",
    "\n",
    "path = '/Users/emanuelevivoli/Projects/asmara'\n",
    "# read all files from /data/raw/indoor\n",
    "files = os.listdir(f'{path}/data/raw/indoor')\n",
    "\n",
    "# rename all files\n",
    "for file in files:\n",
    "    if file.startswith('.'): continue\n",
    "    \n",
    "    # remove the prefix \"TraceData_\" and \"plutoScan_\"\n",
    "    os.rename(f'{path}/data/raw/indoor/{file}', f'{path}/data/raw/indoor/{file[10:]}')\n"
   ]
  },
  {
   "cell_type": "code",
   "execution_count": null,
   "metadata": {},
   "outputs": [],
   "source": [
    "# load every file from /data/raw/outdoor and rename without the third element\n",
    "# \"_6\n",
    "\n",
    "import os\n",
    "\n",
    "path = '/Users/emanuelevivoli/Projects/asmara'\n",
    "# read all files from /data/raw/outdoor\n",
    "files = os.listdir(f'{path}/data/raw/outdoor')\n",
    "\n",
    "# rename all files\n",
    "for file in files:\n",
    "    if file.startswith('.'): continue\n",
    "    \n",
    "    # remove the third element \"_6\"\n",
    "    file , ext = file.split('.')\n",
    "    list_name = file.split('_')\n",
    "    list_name.pop(2)\n",
    "    new_file = '_'.join(list_name)\n",
    "\n",
    "    os.rename(f'{path}/data/raw/outdoor/{file}.{ext}', f'{path}/data/raw/outdoor/{new_file}.{ext}')"
   ]
  }
 ],
 "metadata": {
  "kernelspec": {
   "display_name": "mypython3",
   "language": "python",
   "name": "python3"
  },
  "language_info": {
   "name": "python",
   "version": "3.8.13"
  },
  "orig_nbformat": 4,
  "vscode": {
   "interpreter": {
    "hash": "8148f3366ec21db64bd0484ee2e8d964d27d8e8b73627767738b51624036cdd9"
   }
  }
 },
 "nbformat": 4,
 "nbformat_minor": 2
}
