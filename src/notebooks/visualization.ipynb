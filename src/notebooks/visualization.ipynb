{
 "cells": [
  {
   "cell_type": "markdown",
   "metadata": {},
   "source": [
    "# Visualization\n",
    "\n",
    "Here we visualize:\n",
    "- Inside object\n",
    "- Outside ground\n",
    "- outside ground wixed with Inside object"
   ]
  },
  {
   "cell_type": "code",
   "execution_count": null,
   "metadata": {},
   "outputs": [],
   "source": [
    "from holopy.core.io import get_example_data_path\n",
    "imagepath = get_example_data_path('/Users/emanuelevivoli/asmara/holopy/holopy/core/tests/exampledata/image0002.h5')\n",
    "raw_holo = hp.load(imagepath)\n",
    "hp.show(   raw_holo   )"
   ]
  },
  {
   "cell_type": "code",
   "execution_count": 4,
   "metadata": {},
   "outputs": [],
   "source": [
    "holo = calc_holo(raw_holo, sphere)\n",
    "hp.show(   holo   )"
   ]
  },
  {
   "cell_type": "code",
   "execution_count": 4,
   "metadata": {},
   "outputs": [
    {
     "name": "stderr",
     "output_type": "stream",
     "text": [
      "/Users/emanuelevivoli/miniconda3/envs/mypython3/lib/python3.8/site-packages/holopy/core/io/vis.py:264: UserWarning: Image contains complex values. Taking image magnitude.\n",
      "  warn(\"Image contains complex values. Taking image magnitude.\")\n"
     ]
    },
    {
     "name": "stdout",
     "output_type": "stream",
     "text": [
      "pixels: x = 428, y = 421, z = 0, units: x = 4.3e+01, y = 4.2e+01, z = 0.0e+00,\n",
      "pixels: x = 428, y = 419, z = 50, units: x = 4.3e+01, y = 4.2e+01, z = -2.0e-01,\n",
      "pixels: x = 432, y = 428, z = 50, units: x = 4.3e+01, y = 4.3e+01, z = -2.0e-01,\n",
      "pixels: x = 448, y = 448, z = 29, units: x = 4.5e+01, y = 4.5e+01, z = -4.4e+00,\n"
     ]
    }
   ],
   "source": [
    "import numpy as np\n",
    "import holopy as hp\n",
    "from holopy.core.io import get_example_data_path, load_average\n",
    "from holopy.core.process import bg_correct\n",
    "\n",
    "# imagepath = get_example_data_path('/Users/emanuelevivoli/asmara/src/notebooks/outfilename.tif')\n",
    "# raw_holo = hp.load_image(imagepath, spacing = 0.0851, medium_index = 1.33, illum_wavelen = 0.66, )\n",
    "# bgpath = get_example_data_path([\n",
    "#     '/Users/emanuelevivoli/asmara/holopy/holopy/core/tests/exampledata/bg01.jpg',\n",
    "#     '/Users/emanuelevivoli/asmara/holopy/holopy/core/tests/exampledata/bg02.jpg',\n",
    "#     '/Users/emanuelevivoli/asmara/holopy/holopy/core/tests/exampledata/bg03.jpg'])\n",
    "# bg = load_average(bgpath, refimg = raw_holo)\n",
    "# holo = bg_correct(raw_holo, bg)\n",
    "\n",
    "zstack = np.linspace(-10, 0, 51)\n",
    "rec_vol = hp.propagate(holo, zstack)\n",
    "hp.show(rec_vol)"
   ]
  },
  {
   "cell_type": "code",
   "execution_count": 6,
   "metadata": {},
   "outputs": [],
   "source": [
    "hp.save_image('outfilename', holo)"
   ]
  },
  {
   "cell_type": "code",
   "execution_count": 7,
   "metadata": {},
   "outputs": [],
   "source": [
    "import holopy as hp\n",
    "from holopy.core.io import get_example_data_path\n",
    "imagepath = get_example_data_path('/Users/emanuelevivoli/asmara/src/notebooks/outfilename.tif')\n"
   ]
  },
  {
   "cell_type": "code",
   "execution_count": 8,
   "metadata": {},
   "outputs": [],
   "source": [
    "import diffractsim\n",
    "diffractsim.set_backend(\"CPU\") #Change the string to \"CUDA\" to use GPU acceleration\n",
    "\n",
    "from diffractsim import MonochromaticField, ApertureFromImage, mm, nm, cm\n",
    "\n",
    "F = MonochromaticField(\n",
    "    wavelength=632.8 * nm, extent_x=18 * mm, extent_y=18 * mm, Nx=1024, Ny=1024\n",
    ")\n",
    "\n",
    "F.add(ApertureFromImage(\"/Users/emanuelevivoli/asmara/diffractsim/examples/apertures/hexagon.jpg\", image_size=(5.6 * mm, 5.6 * mm), simulation = F))\n",
    "\n",
    "\n",
    "F.propagate(80*cm)\n",
    "rgb = F.get_intensity()\n",
    "F.plot_colors(rgb, xlim=[-7* mm, 7* mm], ylim=[-7* mm, 7* mm])"
   ]
  },
  {
   "cell_type": "code",
   "execution_count": 9,
   "metadata": {},
   "outputs": [],
   "source": [
    "send_to_luca = F.E"
   ]
  },
  {
   "cell_type": "code",
   "execution_count": 10,
   "metadata": {},
   "outputs": [
    {
     "data": {
      "text/plain": [
       "(1024, 1024)"
      ]
     },
     "execution_count": 10,
     "metadata": {},
     "output_type": "execute_result"
    }
   ],
   "source": [
    "send_to_luca.shape"
   ]
  },
  {
   "cell_type": "code",
   "execution_count": 11,
   "metadata": {},
   "outputs": [],
   "source": [
    "import numpy, scipy.io\n",
    "\n",
    "scipy.io.savemat('/Users/emanuelevivoli/asmara/send_to_luca.mat', mdict={'send_to_luca': send_to_luca})"
   ]
  },
  {
   "cell_type": "code",
   "execution_count": 12,
   "metadata": {},
   "outputs": [],
   "source": [
    "import numpy as np\n",
    "\n",
    "rgb = F.E\n",
    "\n",
    "F.plot_colors(np.absolute(rgb), xlim=[-7* mm, 7* mm], ylim=[-7* mm, 7* mm])\n",
    "F.plot_colors(np.angle(rgb), xlim=[-7* mm, 7* mm], ylim=[-7* mm, 7* mm])"
   ]
  },
  {
   "cell_type": "code",
   "execution_count": 13,
   "metadata": {},
   "outputs": [
    {
     "data": {
      "text/plain": [
       "(1.0, 0.0)"
      ]
     },
     "execution_count": 13,
     "metadata": {},
     "output_type": "execute_result"
    }
   ],
   "source": [
    "app_img = (np.absolute(rgb)-np.min(np.absolute(rgb)))/(np.max(np.absolute(rgb))-np.min(np.absolute(rgb)))\n",
    "np.max(app_img), np.min(app_img)"
   ]
  },
  {
   "cell_type": "code",
   "execution_count": 14,
   "metadata": {},
   "outputs": [],
   "source": [
    "import matplotlib.image\n",
    "matplotlib.image.imsave('/Users/emanuelevivoli/asmara/diffractsim/examples/apertures/custom_2.jpg', app_img)"
   ]
  },
  {
   "cell_type": "code",
   "execution_count": 15,
   "metadata": {},
   "outputs": [],
   "source": [
    "\n",
    "J = MonochromaticField(\n",
    "    wavelength=632.8 * nm, extent_x=18 * mm, extent_y=18 * mm, Nx=1024, Ny=1024\n",
    ")\n",
    "\n",
    "J.add(ApertureFromImage(\"/Users/emanuelevivoli/asmara/diffractsim/examples/apertures/custom_2.jpg\", image_size=(5.6 * mm, 5.6 * mm), simulation = F))\n",
    "\n",
    "\n",
    "J.propagate(-80*cm)\n",
    "j_rgb_0 = J.get_intensity()\n",
    "J.plot_colors(j_rgb_0, xlim=[-7* mm, 7* mm], ylim=[-7* mm, 7* mm])"
   ]
  },
  {
   "cell_type": "code",
   "execution_count": 16,
   "metadata": {},
   "outputs": [],
   "source": [
    "\n",
    "J = MonochromaticField(\n",
    "    wavelength=632.8 * nm, extent_x=18 * mm, extent_y=18 * mm, Nx=1024, Ny=1024\n",
    ")\n",
    "\n",
    "J.add(ApertureFromImage(\"/Users/emanuelevivoli/asmara/diffractsim/examples/apertures/hexagon.jpg\", image_size=(5.6 * mm, 5.6 * mm), simulation = F))\n",
    "\n",
    "\n",
    "J.propagate(80*cm)\n",
    "j_rgb_0 = J.get_intensity()\n",
    "J.plot_colors(j_rgb_0, xlim=[-7* mm, 7* mm], ylim=[-7* mm, 7* mm])"
   ]
  },
  {
   "cell_type": "code",
   "execution_count": 17,
   "metadata": {},
   "outputs": [],
   "source": [
    "import diffractsim\n",
    "diffractsim.set_backend(\"CPU\") #Change the string to \"CUDA\" to use GPU acceleration\n",
    "\n",
    "from diffractsim import MonochromaticField, ApertureFromImage, mm, nm, cm, um\n",
    "\n",
    "F = MonochromaticField(\n",
    "    wavelength=15.0 * cm, extent_x=300 * cm, extent_y=300 * cm, Nx=600, Ny=600\n",
    ")\n",
    "\n",
    "F.add(ApertureFromImage(\"/Users/emanuelevivoli/asmara/diffractsim/examples/apertures/hexagon.jpg\", image_size=(5.0 * cm, 5.0 * cm), simulation = F))\n",
    "\n",
    "\n",
    "F.propagate(5*cm)\n",
    "rgb_0 = F.get_intensity()\n",
    "F.plot_colors(rgb_0, xlim=[-200* cm, 200* cm], ylim=[-200* cm, 200* cm])\n",
    "\n",
    "F.propagate(20*cm)\n",
    "rgb_1 = F.get_intensity()\n",
    "F.plot_colors(rgb_1, xlim=[-200* cm, 200* cm], ylim=[-200* cm, 200* cm])"
   ]
  },
  {
   "cell_type": "code",
   "execution_count": null,
   "metadata": {},
   "outputs": [],
   "source": [
    "rgb_2 = F.E\n",
    "\n",
    "F.plot_colors(np.real(rgb_2), xlim=[-200* cm, 200* cm], ylim=[-200* cm, 200* cm])\n",
    "F.plot_colors(np.angle(rgb_2), xlim=[-200* cm, 200* cm], ylim=[-200* cm, 200* cm])"
   ]
  },
  {
   "cell_type": "code",
   "execution_count": null,
   "metadata": {},
   "outputs": [],
   "source": [
    "app_img = (np.real(F.E)-np.min(np.real(F.E)))/(np.max(np.real(F.E))-np.min(np.real(F.E)))\n",
    "np.max(app_img), np.min(app_img)"
   ]
  },
  {
   "cell_type": "code",
   "execution_count": null,
   "metadata": {},
   "outputs": [],
   "source": [
    "import matplotlib.image\n",
    "matplotlib.image.imsave('/Users/emanuelevivoli/asmara/diffractsim/examples/apertures/custom.jpg', app_img)"
   ]
  },
  {
   "cell_type": "code",
   "execution_count": null,
   "metadata": {},
   "outputs": [],
   "source": [
    "import matplotlib.image\n",
    "matplotlib.image.imsave('/Users/emanuelevivoli/asmara/diffractsim/examples/apertures/custom.jpg', app_img)\n",
    "J = MonochromaticField(\n",
    "    wavelength=15.0 * cm, extent_x=300 * cm, extent_y=300 * cm, Nx=600, Ny=600\n",
    ")\n",
    "\n",
    "J.add(ApertureFromImage(\"/Users/emanuelevivoli/asmara/diffractsim/examples/apertures/custom.jpg\", image_size=(5.0 * cm, 5.0 * cm), simulation = F))\n",
    "\n",
    "\n",
    "J.propagate(25*cm)\n",
    "j_rgb_0 = J.get_intensity()\n",
    "J.plot_colors(j_rgb_0, xlim=[-200* cm, 200* cm], ylim=[-200* cm, 200* cm])"
   ]
  },
  {
   "cell_type": "code",
   "execution_count": null,
   "metadata": {},
   "outputs": [],
   "source": [
    "import matlab.engine\n",
    "import os\n",
    "from src.utils.const import *\n",
    "\n",
    "eng = matlab.engine.start_matlab()\n",
    "s = eng.genpath(os.path.join(BASEPATH, 'matlab'))\n",
    "eng.addpath(s, nargout=0)"
   ]
  },
  {
   "cell_type": "code",
   "execution_count": null,
   "metadata": {},
   "outputs": [],
   "source": [
    "rgb_app = np.array(app_img).T"
   ]
  },
  {
   "cell_type": "code",
   "execution_count": null,
   "metadata": {},
   "outputs": [],
   "source": [
    "import numpy as np\n",
    "\n",
    "eng.workspace['E'] = rgb_app\n",
    "eng.eval(\"E = double(E);\", nargout=0)\n",
    "eng.workspace['w'] = 632.8 * nm\n",
    "eng.eval(\"w = double(w);\", nargout=0)\n",
    "eng.workspace['d'] = 80 * cm\n",
    "eng.eval(\"d = double(d);\", nargout=0)\n",
    "eng.workspace['dx'] = 0.017578125 * mm\n",
    "eng.eval(\"dx = double(dx);\", nargout=0)\n",
    "\n",
    "# hologram, reconstruction_distance, wavelength, pixel_size, phase_mask\n",
    "# myAngularSpectrum(  H, d, w, dx, B, scale_factor)\n",
    "\n",
    "eng.eval(\"[Inv] = myAngularSpectrum( E, d, w, dx);\", nargout=0)\n",
    "# eng.eval(\"[Inv] = fast_inversion(E, F, epsilon, 'newAngSpec', in_line);\", nargout=0)\n",
    "\n",
    "# eng.eval(\"Inv_app = cell2mat(Inv);\", nargout=0)\n",
    "Inv_app = eng.workspace['Inv']\n",
    "Inv_app = np.asarray(Inv_app, dtype = 'complex_')"
   ]
  },
  {
   "cell_type": "code",
   "execution_count": null,
   "metadata": {},
   "outputs": [],
   "source": [
    "Inv = np.absolute(Inv_app)"
   ]
  },
  {
   "cell_type": "code",
   "execution_count": null,
   "metadata": {},
   "outputs": [],
   "source": [
    "np.min(Inv), np.max(Inv)\n",
    "Inv_finale = (Inv-np.min(Inv))/(np.max(Inv)-np.min(Inv))"
   ]
  },
  {
   "cell_type": "code",
   "execution_count": null,
   "metadata": {},
   "outputs": [],
   "source": [
    "np.min(Inv), np.max(Inv), np.min(Inv_finale), np.max(Inv_finale)"
   ]
  },
  {
   "cell_type": "code",
   "execution_count": null,
   "metadata": {},
   "outputs": [],
   "source": [
    "\n",
    "%matplotlib inline\n",
    "import matplotlib.pyplot as plt\n",
    "import numpy as np\n",
    "\n",
    "\n",
    "fig = plt.figure(figsize=(15, 15))\n",
    "columns = 1\n",
    "rows = 1\n",
    "for z in range(1, columns*rows +1):\n",
    "    fig.add_subplot(rows, columns, z)\n",
    "    plt.imshow(np.absolute(Inv_finale), cmap='gray')\n",
    "    plt.title(f'distance {z}')\n",
    "plt.show()\n"
   ]
  },
  {
   "cell_type": "markdown",
   "metadata": {},
   "source": [
    "# Other"
   ]
  },
  {
   "cell_type": "code",
   "execution_count": null,
   "metadata": {},
   "outputs": [],
   "source": [
    "import matlab.engine\n",
    "eng = matlab.engine.start_matlab()\n",
    "\n",
    "###############\n",
    "# CONST\n",
    "###############\n",
    "import os\n",
    "from src.utils.const import *\n",
    "\n",
    "# add paths to files\n",
    "s = eng.genpath(os.path.join(BASEPATH, 'new'))\n",
    "eng.addpath(s, nargout=0)\n",
    "\n",
    "import numpy as np\n",
    "\n",
    "location = 'outdoor'\n",
    "name = '1_25_6'\n",
    "\n",
    "DATA_RAW = BASEPATH / Path('data/raw')\n",
    "\n",
    "pluto = f'{name}.log'\n",
    "samba = f'{name}.csv'\n",
    "\n",
    "eng.workspace['pluto']= os.path.join(DATA_RAW, location, pluto)\n",
    "eng.workspace['trace']= os.path.join(DATA_RAW, location, samba)\n",
    "\n",
    "eng.eval(f\"[F,FI,FQ,P_X,P_Y,P_MOD,P_PHASE] = merge_acquisition(trace, pluto);\",nargout=0)\n",
    "# F = eng.workspace['F']\n",
    "# P_X = eng.workspace['P_X']\n",
    "# P_Y = eng.workspace['P_Y']\n",
    "# P_I = eng.workspace['P_MOD']\n",
    "# P_Q = eng.workspace['P_PHASE']\n",
    "\n",
    "eng.eval(f\"[MO, PH, H, Hfill] = fast_generate_hologram(F, FI, FQ, 5, P_X, P_Y, P_MOD, P_PHASE, 2, 3);\",nargout=0)\n",
    "\n",
    "# MO = eng.workspace['MO']\n",
    "# PH = eng.workspace['PH']\n",
    "# H = eng.workspace['H']\n",
    "Hfill = eng.workspace['Hfill']\n",
    "\n",
    "#!################\n",
    "#! VARIABLES\n",
    "#!################\n",
    "\n",
    "eng.workspace['epsilon'] = 4 if location == 'outdoor' else 1\n",
    "eng.eval(\"epsilon = double(epsilon);\", nargout=0)\n",
    "eng.workspace['in_line'] = 0\n",
    "eng.eval(\"in_line = double(in_line);\", nargout=0)\n",
    "\n",
    "#!DAFAULT\n",
    "# eng.workspace['min'] = 0\n",
    "# eng.eval(\"min = double(min)/1e2;\", nargout=0)\n",
    "# eng.workspace['max'] = 40\n",
    "# eng.eval(\"max = double(max)/1e2;\", nargout=0)\n",
    "# eng.workspace['step'] = 100\n",
    "# eng.eval(\"step = double(step);\", nargout=0)\n",
    "# eng.workspace['pad_size'] = 1000\n",
    "# eng.eval(\"pad_size = double(pad_size);\", nargout=0)\n",
    "# eng.workspace['scale_factor'] = 1\n",
    "# eng.eval(\"scale_factor = double(scale_factor);\", nargout=0)\n",
    "# eng.workspace['resizeFlag'] = 0\n",
    "# eng.eval(\"resizeFlag = double(resizeFlag);\", nargout=0)\n",
    "\n",
    "# inversion algorithm can be one of:\n",
    "# - Fresnel\n",
    "# - Conv\n",
    "# - AngSpec\n",
    "\n",
    "eng.eval(\"[Inv] = fast_inversion(Hfill, F, epsilon, 'newAngSpec', in_line);\", nargout=0)\n",
    "eng.eval(\"Inv_app = cell2mat(Inv);\", nargout=0)\n",
    "Inv_app = eng.workspace['Inv_app']\n",
    "Inv = np.asarray(Inv_app, dtype = 'complex_')\n",
    "# np.save(file=os.path.join(DATA_INTER, location, f'{name}_0.npy'), arr=Inv)\n",
    "\n",
    "eng.eval(\"[Inv180] = fast_inversion(Hfill.*exp(1i*pi), F, epsilon, 'newAngSpec', in_line);\", nargout=0)\n",
    "eng.eval(\"Inv180_app = cell2mat(Inv180);\", nargout=0)\n",
    "Inv180_app = eng.workspace['Inv180_app']\n",
    "Inv180 = np.asarray(Inv180_app, dtype = 'complex_')\n",
    "# np.save(file=os.path.join(DATA_INTER, location, f'{name}_180.npy'), arr=Inv180)"
   ]
  },
  {
   "cell_type": "code",
   "execution_count": null,
   "metadata": {},
   "outputs": [],
   "source": [
    "Hfill = np.asarray(Hfill, dtype = 'complex_')\n",
    "np.min(np.imag(Hfill)), np.max(np.imag(Hfill))\n",
    "%matplotlib inline\n",
    "import matplotlib.pyplot as plt\n",
    "import matplotlib.image as mpimg\n",
    "imgplot = plt.imshow(np.imag(Hfill))\n",
    "plt.show()\n",
    "imgplot = plt.imshow(np.real(Hfill))\n",
    "plt.show()"
   ]
  },
  {
   "cell_type": "code",
   "execution_count": null,
   "metadata": {},
   "outputs": [],
   "source": [
    "Mixed_real = np.abs(np.real(Inv))\n",
    "%matplotlib inline\n",
    "import matplotlib.pyplot as plt\n",
    "import matplotlib.image as mpimg\n",
    "\n",
    "fig = plt.figure(figsize=(40, 15))\n",
    "columns = 10\n",
    "rows = 4\n",
    "for z in range(1, columns*rows +1):\n",
    "    fig.add_subplot(rows, columns, z)\n",
    "    plt.imshow(Mixed_real[:,:,z-1])\n",
    "    plt.title(f'distance {z}')\n",
    "plt.show()"
   ]
  },
  {
   "cell_type": "markdown",
   "metadata": {},
   "source": [
    "# Other\n"
   ]
  },
  {
   "cell_type": "code",
   "execution_count": null,
   "metadata": {},
   "outputs": [],
   "source": [
    "in_file_name = 'in_low_00_A_6_0'\n",
    "indoor = np.load(indoorpath / f\"{in_file_name}.npy\")\n",
    "Mixed_real = np.real(indoor)\n",
    "%matplotlib inline\n",
    "import matplotlib.pyplot as plt\n",
    "import matplotlib.image as mpimg\n",
    "\n",
    "fig = plt.figure(figsize=(40, 15))\n",
    "columns = 10\n",
    "rows = 4\n",
    "for z in range(1, columns*rows +1):\n",
    "    fig.add_subplot(rows, columns, z)\n",
    "    plt.imshow(Mixed_real[:,:,z-1])\n",
    "    plt.title(f'distance {z}')\n",
    "plt.show()"
   ]
  },
  {
   "cell_type": "code",
   "execution_count": null,
   "metadata": {},
   "outputs": [],
   "source": [
    "in_file_name = 'in_low_05_B_6_0'\n",
    "\n",
    "indoor = np.load(indoorpath / f\"{in_file_name}.npy\")\n",
    "# noise = np.load(indoorpath / f\"{noise_file}.npy\")\n",
    "Mixed_real = np.abs(np.real(indoor ))\n",
    "%matplotlib inline\n",
    "import matplotlib.pyplot as plt\n",
    "import matplotlib.image as mpimg\n",
    "\n",
    "fig = plt.figure(figsize=(40, 15))\n",
    "columns = 10\n",
    "rows = 4\n",
    "for z in range(1, columns*rows +1):\n",
    "    fig.add_subplot(rows, columns, z)\n",
    "    plt.imshow(Mixed_real[:,:,z-1])\n",
    "    plt.title(f'distance {z}')\n",
    "plt.show()"
   ]
  },
  {
   "cell_type": "code",
   "execution_count": null,
   "metadata": {},
   "outputs": [],
   "source": [
    "indoor = np.load(indoorpath / f\"{in_file_name}.npy\")\n",
    "outdoor = np.load(outdoorpath / f\"{out_file_name}.npy\")\n",
    "Mixed_real = np.real(indoor + outdoor)"
   ]
  },
  {
   "cell_type": "code",
   "execution_count": null,
   "metadata": {},
   "outputs": [],
   "source": [
    "%matplotlib inline\n",
    "import matplotlib.pyplot as plt\n",
    "import matplotlib.image as mpimg\n",
    "\n",
    "fig = plt.figure(figsize=(40, 15))\n",
    "columns = 10\n",
    "rows = 4\n",
    "for z in range(1, columns*rows +1):\n",
    "    fig.add_subplot(rows, columns, z)\n",
    "    plt.imshow(Mixed_real[:,:,z-1])\n",
    "    plt.title(f'distance {z}')\n",
    "plt.show()"
   ]
  },
  {
   "cell_type": "code",
   "execution_count": null,
   "metadata": {},
   "outputs": [],
   "source": [
    "import plotly.graph_objects as go\n",
    "\n",
    "# inversion of axis \n",
    "volume = Mixed_real.T\n",
    "volume = volume[::-1,:,:]\n",
    "\n",
    "# Define frames\n",
    "r, c = volume[0].shape\n",
    "cmin = np.min(volume)\n",
    "cmax = np.max(volume)\n",
    "\n",
    "nb_frames = volume.shape[0]\n",
    "\n",
    "fig = go.Figure(frames=[go.Frame(data=go.Surface(\n",
    "    z=(6.7 - k * 0.1) * np.ones((r, c)),\n",
    "    surfacecolor=np.flipud(volume[nb_frames - 1 - k]),\n",
    "    cmin=cmin, cmax=cmax\n",
    "    ),\n",
    "    name=str(k) # you need to name the frame for the animation to behave properly\n",
    "    )\n",
    "    for k in range(nb_frames)])\n",
    "\n",
    "# Add data to be displayed before animation starts\n",
    "fig.add_trace(go.Surface(\n",
    "    z=6.7 * np.ones((r, c)),\n",
    "    surfacecolor=np.flipud(volume[nb_frames - 1]),\n",
    "    colorscale='viridis',\n",
    "    cmin=cmin, cmax=cmax,\n",
    "    colorbar=dict(thickness=20, ticklen=4)\n",
    "    ))\n",
    "\n",
    "\n",
    "def frame_args(duration):\n",
    "    return {\n",
    "            \"frame\": {\"duration\": duration},\n",
    "            \"mode\": \"immediate\",\n",
    "            \"fromcurrent\": True,\n",
    "            \"transition\": {\"duration\": duration, \"easing\": \"linear\"},\n",
    "        }\n",
    "\n",
    "sliders = [\n",
    "            {\n",
    "                \"pad\": {\"b\": 10, \"t\": 60},\n",
    "                \"len\": 0.9,\n",
    "                \"x\": 0.1,\n",
    "                \"y\": 0,\n",
    "                \"steps\": [\n",
    "                    {\n",
    "                        \"args\": [[f.name], frame_args(0)],\n",
    "                        \"label\": str(k),\n",
    "                        \"method\": \"animate\",\n",
    "                    }\n",
    "                    for k, f in enumerate(fig.frames)\n",
    "                ],\n",
    "            }\n",
    "        ]\n",
    "\n",
    "# Layout\n",
    "fig.update_layout(\n",
    "         title='Slices in volumetric data',\n",
    "         width=600,\n",
    "         height=600,\n",
    "         scene=dict(\n",
    "                    zaxis=dict(range=[-0.1, 6.8], autorange=False),\n",
    "                    aspectratio=dict(x=1, y=1, z=1),\n",
    "                    ),\n",
    "         updatemenus = [\n",
    "            {\n",
    "                \"buttons\": [\n",
    "                    {\n",
    "                        \"args\": [None, frame_args(50)],\n",
    "                        \"label\": \"&#9654;\", # play symbol\n",
    "                        \"method\": \"animate\",\n",
    "                    },\n",
    "                    {\n",
    "                        \"args\": [[None], frame_args(0)],\n",
    "                        \"label\": \"&#9724;\", # pause symbol\n",
    "                        \"method\": \"animate\",\n",
    "                    },\n",
    "                ],\n",
    "                \"direction\": \"left\",\n",
    "                \"pad\": {\"r\": 10, \"t\": 70},\n",
    "                \"type\": \"buttons\",\n",
    "                \"x\": 0.1,\n",
    "                \"y\": 0,\n",
    "            }\n",
    "         ],\n",
    "         sliders=sliders\n",
    ")\n",
    "\n",
    "fig.show()"
   ]
  },
  {
   "cell_type": "code",
   "execution_count": null,
   "metadata": {},
   "outputs": [],
   "source": [
    "in_noise_file_name = 'in_low_00_20_A_6_0'"
   ]
  },
  {
   "cell_type": "code",
   "execution_count": null,
   "metadata": {},
   "outputs": [],
   "source": [
    "indoor_noise = np.load(indoorpath / f\"{in_noise_file_name}.npy\")\n",
    "Mixed_real_nonoise = np.real((indoor - indoor_noise) + outdoor)"
   ]
  },
  {
   "cell_type": "code",
   "execution_count": null,
   "metadata": {},
   "outputs": [],
   "source": [
    "%matplotlib inline\n",
    "import matplotlib.pyplot as plt\n",
    "import matplotlib.image as mpimg\n",
    "\n",
    "fig = plt.figure(figsize=(40, 15))\n",
    "columns = 10\n",
    "rows = 4\n",
    "for z in range(1, columns*rows +1):\n",
    "    fig.add_subplot(rows, columns, z)\n",
    "    plt.imshow(Mixed_real_nonoise[:,:,z-1])\n",
    "    plt.title(f'distance {z}')\n",
    "plt.show()"
   ]
  },
  {
   "cell_type": "code",
   "execution_count": null,
   "metadata": {},
   "outputs": [],
   "source": [
    "%matplotlib inline\n",
    "import matplotlib.pyplot as plt\n",
    "import matplotlib.image as mpimg\n",
    "\n",
    "fig = plt.figure(figsize=(40, 15))\n",
    "columns = 10\n",
    "rows = 4\n",
    "for z in range(1, columns*rows +1):\n",
    "    fig.add_subplot(rows, columns, z)\n",
    "    plt.imshow(np.real(indoor_noise[:,:,z-1]))\n",
    "    plt.title(f'distance {z}')\n",
    "plt.show()"
   ]
  },
  {
   "cell_type": "code",
   "execution_count": null,
   "metadata": {},
   "outputs": [],
   "source": []
  },
  {
   "cell_type": "code",
   "execution_count": null,
   "metadata": {},
   "outputs": [],
   "source": [
    "%matplotlib inline\n",
    "import matplotlib.pyplot as plt\n",
    "import matplotlib.image as mpimg\n",
    "\n",
    "fig = plt.figure(figsize=(40, 15))\n",
    "columns = 10\n",
    "rows = 4\n",
    "for z in range(1, columns*rows +1):\n",
    "    fig.add_subplot(rows, columns, z)\n",
    "    plt.imshow(np.real(indoor_noise[:,:,z-1]))\n",
    "    plt.title(f'distance {z}')\n",
    "plt.show()"
   ]
  },
  {
   "cell_type": "code",
   "execution_count": null,
   "metadata": {},
   "outputs": [],
   "source": [
    "import plotly.graph_objects as go\n",
    "\n",
    "# inversion of axis \n",
    "volume = Mixed_real_nonoise.T\n",
    "volume = volume[::-1,:,:]\n",
    "\n",
    "# Define frames\n",
    "r, c = volume[0].shape\n",
    "cmin = np.min(volume)\n",
    "cmax = np.max(volume)\n",
    "\n",
    "nb_frames = volume.shape[0]\n",
    "\n",
    "fig = go.Figure(frames=[go.Frame(data=go.Surface(\n",
    "    z=(6.7 - k * 0.1) * np.ones((r, c)),\n",
    "    surfacecolor=np.flipud(volume[nb_frames - 1 - k]),\n",
    "    cmin=cmin, cmax=cmax\n",
    "    ),\n",
    "    name=str(k) # you need to name the frame for the animation to behave properly\n",
    "    )\n",
    "    for k in range(nb_frames)])\n",
    "\n",
    "# Add data to be displayed before animation starts\n",
    "fig.add_trace(go.Surface(\n",
    "    z=6.7 * np.ones((r, c)),\n",
    "    surfacecolor=np.flipud(volume[nb_frames - 1]),\n",
    "    colorscale='viridis',\n",
    "    cmin=cmin, cmax=cmax,\n",
    "    colorbar=dict(thickness=20, ticklen=4)\n",
    "    ))\n",
    "\n",
    "\n",
    "def frame_args(duration):\n",
    "    return {\n",
    "            \"frame\": {\"duration\": duration},\n",
    "            \"mode\": \"immediate\",\n",
    "            \"fromcurrent\": True,\n",
    "            \"transition\": {\"duration\": duration, \"easing\": \"linear\"},\n",
    "        }\n",
    "\n",
    "sliders = [\n",
    "            {\n",
    "                \"pad\": {\"b\": 10, \"t\": 60},\n",
    "                \"len\": 0.9,\n",
    "                \"x\": 0.1,\n",
    "                \"y\": 0,\n",
    "                \"steps\": [\n",
    "                    {\n",
    "                        \"args\": [[f.name], frame_args(0)],\n",
    "                        \"label\": str(k),\n",
    "                        \"method\": \"animate\",\n",
    "                    }\n",
    "                    for k, f in enumerate(fig.frames)\n",
    "                ],\n",
    "            }\n",
    "        ]\n",
    "\n",
    "# Layout\n",
    "fig.update_layout(\n",
    "         title='Slices in volumetric data',\n",
    "         width=600,\n",
    "         height=600,\n",
    "         scene=dict(\n",
    "                    zaxis=dict(range=[-0.1, 6.8], autorange=False),\n",
    "                    aspectratio=dict(x=1, y=1, z=1),\n",
    "                    ),\n",
    "         updatemenus = [\n",
    "            {\n",
    "                \"buttons\": [\n",
    "                    {\n",
    "                        \"args\": [None, frame_args(50)],\n",
    "                        \"label\": \"&#9654;\", # play symbol\n",
    "                        \"method\": \"animate\",\n",
    "                    },\n",
    "                    {\n",
    "                        \"args\": [[None], frame_args(0)],\n",
    "                        \"label\": \"&#9724;\", # pause symbol\n",
    "                        \"method\": \"animate\",\n",
    "                    },\n",
    "                ],\n",
    "                \"direction\": \"left\",\n",
    "                \"pad\": {\"r\": 10, \"t\": 70},\n",
    "                \"type\": \"buttons\",\n",
    "                \"x\": 0.1,\n",
    "                \"y\": 0,\n",
    "            }\n",
    "         ],\n",
    "         sliders=sliders\n",
    ")\n",
    "\n",
    "fig.show()"
   ]
  },
  {
   "cell_type": "code",
   "execution_count": null,
   "metadata": {},
   "outputs": [],
   "source": [
    "import plotly.graph_objects as go\n",
    "\n",
    "# inversion of axis \n",
    "volume = np.real(indoor_noise).T\n",
    "volume = volume[::-1,:,:]\n",
    "\n",
    "# Define frames\n",
    "r, c = volume[0].shape\n",
    "cmin = np.min(volume)\n",
    "cmax = np.max(volume)\n",
    "\n",
    "nb_frames = volume.shape[0]\n",
    "\n",
    "fig = go.Figure(frames=[go.Frame(data=go.Surface(\n",
    "    z=(6.7 - k * 0.1) * np.ones((r, c)),\n",
    "    surfacecolor=np.flipud(volume[nb_frames - 1 - k]),\n",
    "    cmin=cmin, cmax=cmax\n",
    "    ),\n",
    "    name=str(k) # you need to name the frame for the animation to behave properly\n",
    "    )\n",
    "    for k in range(nb_frames)])\n",
    "\n",
    "# Add data to be displayed before animation starts\n",
    "fig.add_trace(go.Surface(\n",
    "    z=6.7 * np.ones((r, c)),\n",
    "    surfacecolor=np.flipud(volume[nb_frames - 1]),\n",
    "    colorscale='viridis',\n",
    "    cmin=cmin, cmax=cmax,\n",
    "    colorbar=dict(thickness=20, ticklen=4)\n",
    "    ))\n",
    "\n",
    "\n",
    "def frame_args(duration):\n",
    "    return {\n",
    "            \"frame\": {\"duration\": duration},\n",
    "            \"mode\": \"immediate\",\n",
    "            \"fromcurrent\": True,\n",
    "            \"transition\": {\"duration\": duration, \"easing\": \"linear\"},\n",
    "        }\n",
    "\n",
    "sliders = [\n",
    "            {\n",
    "                \"pad\": {\"b\": 10, \"t\": 60},\n",
    "                \"len\": 0.9,\n",
    "                \"x\": 0.1,\n",
    "                \"y\": 0,\n",
    "                \"steps\": [\n",
    "                    {\n",
    "                        \"args\": [[f.name], frame_args(0)],\n",
    "                        \"label\": str(k),\n",
    "                        \"method\": \"animate\",\n",
    "                    }\n",
    "                    for k, f in enumerate(fig.frames)\n",
    "                ],\n",
    "            }\n",
    "        ]\n",
    "\n",
    "# Layout\n",
    "fig.update_layout(\n",
    "         title='Slices in volumetric data',\n",
    "         width=600,\n",
    "         height=600,\n",
    "         scene=dict(\n",
    "                    zaxis=dict(range=[-0.1, 6.8], autorange=False),\n",
    "                    aspectratio=dict(x=1, y=1, z=1),\n",
    "                    ),\n",
    "         updatemenus = [\n",
    "            {\n",
    "                \"buttons\": [\n",
    "                    {\n",
    "                        \"args\": [None, frame_args(50)],\n",
    "                        \"label\": \"&#9654;\", # play symbol\n",
    "                        \"method\": \"animate\",\n",
    "                    },\n",
    "                    {\n",
    "                        \"args\": [[None], frame_args(0)],\n",
    "                        \"label\": \"&#9724;\", # pause symbol\n",
    "                        \"method\": \"animate\",\n",
    "                    },\n",
    "                ],\n",
    "                \"direction\": \"left\",\n",
    "                \"pad\": {\"r\": 10, \"t\": 70},\n",
    "                \"type\": \"buttons\",\n",
    "                \"x\": 0.1,\n",
    "                \"y\": 0,\n",
    "            }\n",
    "         ],\n",
    "         sliders=sliders\n",
    ")\n",
    "\n",
    "fig.show()"
   ]
  },
  {
   "cell_type": "code",
   "execution_count": null,
   "metadata": {},
   "outputs": [],
   "source": []
  }
 ],
 "metadata": {
  "kernelspec": {
   "display_name": "Python 3.8.13 ('mypython3')",
   "language": "python",
   "name": "python3"
  },
  "language_info": {
   "codemirror_mode": {
    "name": "ipython",
    "version": 3
   },
   "file_extension": ".py",
   "mimetype": "text/x-python",
   "name": "python",
   "nbconvert_exporter": "python",
   "pygments_lexer": "ipython3",
   "version": "3.8.13"
  },
  "orig_nbformat": 4,
  "vscode": {
   "interpreter": {
    "hash": "8148f3366ec21db64bd0484ee2e8d964d27d8e8b73627767738b51624036cdd9"
   }
  }
 },
 "nbformat": 4,
 "nbformat_minor": 2
}
